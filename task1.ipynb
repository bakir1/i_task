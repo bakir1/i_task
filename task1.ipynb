{
 "cells": [
  {
   "cell_type": "code",
   "execution_count": 272,
   "metadata": {},
   "outputs": [
    {
     "name": "stdout",
     "output_type": "stream",
     "text": [
      "                                  CITY         TIME\n",
      "35                               Seoul   2:10:47 PM\n",
      "80                                Kota   2:10:47 PM\n",
      "125                        Panama City   2:10:47 PM\n",
      "170                             Malaga   2:10:47 PM\n",
      "215                             Dayton   2:10:47 PM\n",
      "...                                ...          ...\n",
      "224092  Islamorada, Village of Islands   2:10:50 PM\n",
      "224365              Novoyegor'yevskoye   2:10:05 PM\n",
      "224396             Hluboka nad Vltavou  12:00:20 PM\n",
      "224560                            Sand   2:10:41 PM\n",
      "224632                       Mundybash   2:10:54 PM\n",
      "\n",
      "[1168 rows x 2 columns]\n"
     ]
    }
   ],
   "source": [
    "#import pandas library to manipulate with a data\n",
    "import pandas as pd\n",
    "#import time to return unix system for time seconds...\n",
    "import time\n",
    "#import datetime to work with the date as well as time\n",
    "import datetime\n",
    "#import pytz allows me accurate and cross platform timezone calculations\n",
    "import pytz\n",
    "\n",
    "#selecting my timezone\n",
    "sarajevo = pytz.timezone('Europe/Sarajevo')\n",
    "\n",
    "#using firstTimeStart and firstTimeStart to select all ordering time\n",
    "#ordering datetime in file\n",
    "firstTimeStart = datetime.datetime(2021, 9, 24, 13, 0, 0, tzinfo=sarajevo )\n",
    "firstTimeEnd = datetime.datetime(2021, 9, 24, 13, 0, 59, tzinfo=sarajevo )\n",
    "\n",
    "#using secondTimeStart and secondTimeStart to select all ordering time\n",
    "secondTimeStart = datetime.datetime(2021, 9, 24, 15, 10, 0, tzinfo=sarajevo )\n",
    "secondTimeEnd = datetime.datetime(2021, 9, 24, 15, 10, 59, tzinfo=sarajevo )\n",
    "\n",
    "#select unixt time integers and convert \n",
    "firstUnixtimeStart = int(time.mktime(firstTimeStart.timetuple()))\n",
    "firstUnixtimeEnd = int(time.mktime(firstTimeEnd.timetuple()))\n",
    "secondUnixtimeStart = int(time.mktime(secondTimeStart.timetuple()))\n",
    "secondUnixtimeEnd = int(time.mktime(secondTimeEnd.timetuple()))\n",
    "\n",
    "#read csv file city_list\n",
    "cities = pd.read_csv(\"city_list.csv\")\n",
    "#read csv file targets\n",
    "targets = pd.read_csv(\"targets.csv\")\n",
    "\n",
    "#merge this files and select column hash\n",
    "dfg = pd.merge(cities, targets, on='HASH', how='inner')\n",
    "\n",
    "#checking and showing unixtime with our ordering times\n",
    "dfg2 = dfg.loc[((dfg['UNIXTIME_GMT'] >= firstUnixtimeStart) & (dfg['UNIXTIME_GMT'] <= firstUnixtimeEnd)) | ((dfg['UNIXTIME_GMT'] >= secondUnixtimeStart) & (dfg['UNIXTIME_GMT'] <= secondUnixtimeEnd))]\n",
    "\n",
    "#print columns city and time\n",
    "print(dfg2[['CITY', 'TIME']])"
   ]
  },
  {
   "cell_type": "code",
   "execution_count": 212,
   "metadata": {},
   "outputs": [],
   "source": [
    "#import pandas as pd\n",
    "\n",
    "#citys = pd.read_csv(\"city_list.csv\")\n",
    "\n",
    "#target = pd.read_csv(\"targets.csv\")\n",
    "\n",
    "#df = pd.merge(citys, target)\n",
    "#df.head()\n"
   ]
  },
  {
   "cell_type": "code",
   "execution_count": 213,
   "metadata": {},
   "outputs": [],
   "source": [
    "#import csv\n",
    "#with open('targets.csv', 'r') as file:\n",
    " #   reader = csv.reader(file)\n",
    "  #  for row in reader:\n",
    "   #     print(row)\n",
    "        "
   ]
  },
  {
   "cell_type": "code",
   "execution_count": 214,
   "metadata": {},
   "outputs": [],
   "source": [
    "#import csv \n",
    "\n",
    "#with open('targets.csv', 'r') as csv_file:\n",
    " #   csv_reader = csv.reader(csv_file)\n",
    "\n",
    "  #  for line in csv_reader:\n",
    "   #     print(line[2])\n",
    "\n",
    "#with open('city_list.csv', 'r') as csv_file:\n",
    " #   csv_reader = csv.reader(csv_file)\n",
    "\n",
    "  #  for line in csv_reader:\n",
    "   #     print(line[0])"
   ]
  },
  {
   "cell_type": "code",
   "execution_count": 218,
   "metadata": {},
   "outputs": [],
   "source": [
    "#import time\n",
    "#import datetime\n",
    "#firstTime = datetime.datetime(2021, 9, 24, 12, 0)\n",
    "#secondTime = datetime.datetime(2021, 9, 24, 14, 10)\n",
    "\n",
    "#firstUnixtime = int(time.mktime(firstTime.timetuple()))\n",
    "#secondUnixtime = int(time.mktime(secondTime.timetuple()))"
   ]
  },
  {
   "cell_type": "code",
   "execution_count": 220,
   "metadata": {},
   "outputs": [],
   "source": [
    "#import pandas as pd\n",
    "\n",
    "#f1 = pd.read_csv('C:\\\\interview_task\\\\city_list.csv')\n",
    "#f2 = pd.read_csv('C:\\\\interview_task\\\\targets.csv')\n",
    "\n",
    "#print(f2[~f2.column1.isin(f1.column1)])"
   ]
  }
 ],
 "metadata": {
  "interpreter": {
   "hash": "5c0372ed38b372118c24adb00d45654d76c8d10261533c5724e3f5fc1d75489a"
  },
  "kernelspec": {
   "display_name": "Python 3.8.0 64-bit",
   "name": "python3"
  },
  "language_info": {
   "codemirror_mode": {
    "name": "ipython",
    "version": 3
   },
   "file_extension": ".py",
   "mimetype": "text/x-python",
   "name": "python",
   "nbconvert_exporter": "python",
   "pygments_lexer": "ipython3",
   "version": "3.8.0"
  },
  "orig_nbformat": 4
 },
 "nbformat": 4,
 "nbformat_minor": 2
}
